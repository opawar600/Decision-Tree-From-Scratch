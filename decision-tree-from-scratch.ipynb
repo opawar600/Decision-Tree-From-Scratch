{
 "cells": [
  {
   "cell_type": "markdown",
   "metadata": {},
   "source": [
    "## Machine Learning : Decision Tree for Classification\n",
    "\n",
    "In this notebook we will implement a decision tree from scratch without using any inbuilt functions. The main goal here is to get the understanding of how decision tree calculations are done."
   ]
  },
  {
   "cell_type": "markdown",
   "metadata": {},
   "source": [
    "## Problem Statement\n",
    "Build a decision tree model to predict the usage of car. The data is the claim_history.csv which has 10,302 observations. The analysis specifications are:\n",
    "\n",
    "### Target Variable  \n",
    "#### CAR_USE\n",
    "The usage of a car. This variable has two categories which are Commercial and Private. The Commercial category is the Event value.\n",
    "\n",
    "### Nominal Predictor \n",
    "#### CAR_TYPE. \n",
    "The type of a car. This variable has six categories which are Minivan, Panel Truck, Pickup, SUV, Sports Car, and Van.\n",
    "#### OCCUPATION. \n",
    "The occupation of the car owner. This variable has nine categories which are Blue Collar, Clerical, Doctor, Home Maker, Lawyer, Manager, Professional, Student, and Unknown.\n",
    "\n",
    "### Ordinal Predictor\n",
    "#### EDUCATION. \n",
    "The education level of the car owner. This variable has five ordered categories which are Below High School < High School < Bachelors < Masters < Doctors. \n",
    "\n",
    "### Analysis Specifications\n",
    "\n",
    "Partition. Specify the target variable as the stratum variable. Use stratified simple random sampling to put 70% of the records into the Training partition, and the remaining 30% of the records into the Test partition. The random state is 27513.\n",
    "\n",
    "### Decision Tree. \n",
    "The maximum number of branches is two. The maximum depth is two. The split criterion is the *Entropy* metric."
   ]
  },
  {
   "cell_type": "markdown",
   "metadata": {},
   "source": [
    "### Import numpy to speed up the mathematical calculations and pandas to manipulate the data using dataframes."
   ]
  },
  {
   "cell_type": "code",
   "execution_count": 1,
   "metadata": {
    "_cell_guid": "b1076dfc-b9ad-4769-8c92-a6c4dae69d19",
    "_uuid": "8f2839f25d086af736a60e9eeb907d3b93b6e0e5"
   },
   "outputs": [],
   "source": [
    "import numpy as np # linear algebra\n",
    "import pandas as pd # data processing, CSV file I/O (e.g. pd.read_csv)\n",
    "import math\n",
    "\n",
    "from sklearn import metrics\n",
    "\n",
    "from itertools import combinations\n",
    "\n",
    "import warnings\n",
    "warnings.filterwarnings(\"ignore\")\n",
    "\n",
    "import matplotlib.pyplot as plt"
   ]
  },
  {
   "cell_type": "markdown",
   "metadata": {},
   "source": [
    "### Load Dataset"
   ]
  },
  {
   "cell_type": "code",
   "execution_count": 2,
   "metadata": {},
   "outputs": [
    {
     "data": {
      "text/html": [
       "<div>\n",
       "<style scoped>\n",
       "    .dataframe tbody tr th:only-of-type {\n",
       "        vertical-align: middle;\n",
       "    }\n",
       "\n",
       "    .dataframe tbody tr th {\n",
       "        vertical-align: top;\n",
       "    }\n",
       "\n",
       "    .dataframe thead th {\n",
       "        text-align: right;\n",
       "    }\n",
       "</style>\n",
       "<table border=\"1\" class=\"dataframe\">\n",
       "  <thead>\n",
       "    <tr style=\"text-align: right;\">\n",
       "      <th></th>\n",
       "      <th>ID</th>\n",
       "      <th>KIDSDRIV</th>\n",
       "      <th>BIRTH</th>\n",
       "      <th>AGE</th>\n",
       "      <th>HOMEKIDS</th>\n",
       "      <th>YOJ</th>\n",
       "      <th>INCOME</th>\n",
       "      <th>PARENT1</th>\n",
       "      <th>HOME_VAL</th>\n",
       "      <th>MSTATUS</th>\n",
       "      <th>...</th>\n",
       "      <th>TIF</th>\n",
       "      <th>CAR_TYPE</th>\n",
       "      <th>RED_CAR</th>\n",
       "      <th>REVOKED</th>\n",
       "      <th>MVR_PTS</th>\n",
       "      <th>CLM_AMT</th>\n",
       "      <th>CAR_AGE</th>\n",
       "      <th>URBANICITY</th>\n",
       "      <th>CLM_COUNT</th>\n",
       "      <th>EXPOSURE</th>\n",
       "    </tr>\n",
       "  </thead>\n",
       "  <tbody>\n",
       "    <tr>\n",
       "      <td>0</td>\n",
       "      <td>63581743</td>\n",
       "      <td>0</td>\n",
       "      <td>16-Mar-39</td>\n",
       "      <td>60.0</td>\n",
       "      <td>0</td>\n",
       "      <td>11.0</td>\n",
       "      <td>67000.0</td>\n",
       "      <td>No</td>\n",
       "      <td>NaN</td>\n",
       "      <td>No</td>\n",
       "      <td>...</td>\n",
       "      <td>11</td>\n",
       "      <td>Minivan</td>\n",
       "      <td>yes</td>\n",
       "      <td>No</td>\n",
       "      <td>3</td>\n",
       "      <td>0</td>\n",
       "      <td>18.0</td>\n",
       "      <td>Highly Urban/ Urban</td>\n",
       "      <td>0</td>\n",
       "      <td>0.189</td>\n",
       "    </tr>\n",
       "    <tr>\n",
       "      <td>1</td>\n",
       "      <td>132761049</td>\n",
       "      <td>0</td>\n",
       "      <td>21-Jan-56</td>\n",
       "      <td>43.0</td>\n",
       "      <td>0</td>\n",
       "      <td>11.0</td>\n",
       "      <td>91000.0</td>\n",
       "      <td>No</td>\n",
       "      <td>257000.0</td>\n",
       "      <td>No</td>\n",
       "      <td>...</td>\n",
       "      <td>1</td>\n",
       "      <td>Minivan</td>\n",
       "      <td>yes</td>\n",
       "      <td>No</td>\n",
       "      <td>0</td>\n",
       "      <td>0</td>\n",
       "      <td>1.0</td>\n",
       "      <td>Highly Urban/ Urban</td>\n",
       "      <td>0</td>\n",
       "      <td>1.000</td>\n",
       "    </tr>\n",
       "    <tr>\n",
       "      <td>2</td>\n",
       "      <td>921317019</td>\n",
       "      <td>0</td>\n",
       "      <td>18-Nov-51</td>\n",
       "      <td>48.0</td>\n",
       "      <td>0</td>\n",
       "      <td>11.0</td>\n",
       "      <td>53000.0</td>\n",
       "      <td>No</td>\n",
       "      <td>NaN</td>\n",
       "      <td>No</td>\n",
       "      <td>...</td>\n",
       "      <td>1</td>\n",
       "      <td>Van</td>\n",
       "      <td>yes</td>\n",
       "      <td>No</td>\n",
       "      <td>2</td>\n",
       "      <td>0</td>\n",
       "      <td>10.0</td>\n",
       "      <td>Highly Urban/ Urban</td>\n",
       "      <td>0</td>\n",
       "      <td>1.000</td>\n",
       "    </tr>\n",
       "    <tr>\n",
       "      <td>3</td>\n",
       "      <td>727598473</td>\n",
       "      <td>0</td>\n",
       "      <td>5-Mar-64</td>\n",
       "      <td>35.0</td>\n",
       "      <td>1</td>\n",
       "      <td>10.0</td>\n",
       "      <td>16000.0</td>\n",
       "      <td>No</td>\n",
       "      <td>124000.0</td>\n",
       "      <td>Yes</td>\n",
       "      <td>...</td>\n",
       "      <td>4</td>\n",
       "      <td>SUV</td>\n",
       "      <td>no</td>\n",
       "      <td>No</td>\n",
       "      <td>3</td>\n",
       "      <td>0</td>\n",
       "      <td>10.0</td>\n",
       "      <td>Highly Urban/ Urban</td>\n",
       "      <td>0</td>\n",
       "      <td>0.828</td>\n",
       "    </tr>\n",
       "    <tr>\n",
       "      <td>4</td>\n",
       "      <td>450221861</td>\n",
       "      <td>0</td>\n",
       "      <td>5-Jun-48</td>\n",
       "      <td>51.0</td>\n",
       "      <td>0</td>\n",
       "      <td>14.0</td>\n",
       "      <td>NaN</td>\n",
       "      <td>No</td>\n",
       "      <td>306000.0</td>\n",
       "      <td>Yes</td>\n",
       "      <td>...</td>\n",
       "      <td>7</td>\n",
       "      <td>Minivan</td>\n",
       "      <td>yes</td>\n",
       "      <td>No</td>\n",
       "      <td>0</td>\n",
       "      <td>0</td>\n",
       "      <td>6.0</td>\n",
       "      <td>Highly Urban/ Urban</td>\n",
       "      <td>0</td>\n",
       "      <td>0.729</td>\n",
       "    </tr>\n",
       "  </tbody>\n",
       "</table>\n",
       "<p>5 rows × 26 columns</p>\n",
       "</div>"
      ],
      "text/plain": [
       "          ID  KIDSDRIV      BIRTH   AGE  HOMEKIDS   YOJ   INCOME PARENT1  \\\n",
       "0   63581743         0  16-Mar-39  60.0         0  11.0  67000.0      No   \n",
       "1  132761049         0  21-Jan-56  43.0         0  11.0  91000.0      No   \n",
       "2  921317019         0  18-Nov-51  48.0         0  11.0  53000.0      No   \n",
       "3  727598473         0   5-Mar-64  35.0         1  10.0  16000.0      No   \n",
       "4  450221861         0   5-Jun-48  51.0         0  14.0      NaN      No   \n",
       "\n",
       "   HOME_VAL MSTATUS  ... TIF CAR_TYPE RED_CAR  REVOKED MVR_PTS  CLM_AMT  \\\n",
       "0       NaN      No  ...  11  Minivan     yes       No       3        0   \n",
       "1  257000.0      No  ...   1  Minivan     yes       No       0        0   \n",
       "2       NaN      No  ...   1      Van     yes       No       2        0   \n",
       "3  124000.0     Yes  ...   4      SUV      no       No       3        0   \n",
       "4  306000.0     Yes  ...   7  Minivan     yes       No       0        0   \n",
       "\n",
       "   CAR_AGE           URBANICITY CLM_COUNT EXPOSURE  \n",
       "0     18.0  Highly Urban/ Urban         0    0.189  \n",
       "1      1.0  Highly Urban/ Urban         0    1.000  \n",
       "2     10.0  Highly Urban/ Urban         0    1.000  \n",
       "3     10.0  Highly Urban/ Urban         0    0.828  \n",
       "4      6.0  Highly Urban/ Urban         0    0.729  \n",
       "\n",
       "[5 rows x 26 columns]"
      ]
     },
     "execution_count": 2,
     "metadata": {},
     "output_type": "execute_result"
    }
   ],
   "source": [
    "df = pd.read_csv(\"/kaggle/input/claim_history.csv\")\n",
    "df.head()"
   ]
  },
  {
   "cell_type": "markdown",
   "metadata": {},
   "source": [
    "### Train Test Split\n",
    "Divide our data into training and testing sets. Features are the independent varibles (predictors). Labels are the dependent variables (Target). "
   ]
  },
  {
   "cell_type": "code",
   "execution_count": 3,
   "metadata": {},
   "outputs": [
    {
     "data": {
      "text/html": [
       "<div>\n",
       "<style scoped>\n",
       "    .dataframe tbody tr th:only-of-type {\n",
       "        vertical-align: middle;\n",
       "    }\n",
       "\n",
       "    .dataframe tbody tr th {\n",
       "        vertical-align: top;\n",
       "    }\n",
       "\n",
       "    .dataframe thead th {\n",
       "        text-align: right;\n",
       "    }\n",
       "</style>\n",
       "<table border=\"1\" class=\"dataframe\">\n",
       "  <thead>\n",
       "    <tr style=\"text-align: right;\">\n",
       "      <th></th>\n",
       "      <th>CAR_TYPE</th>\n",
       "      <th>OCCUPATION</th>\n",
       "      <th>EDUCATION</th>\n",
       "    </tr>\n",
       "  </thead>\n",
       "  <tbody>\n",
       "    <tr>\n",
       "      <td>0</td>\n",
       "      <td>Minivan</td>\n",
       "      <td>Professional</td>\n",
       "      <td>Doctors</td>\n",
       "    </tr>\n",
       "    <tr>\n",
       "      <td>1</td>\n",
       "      <td>Minivan</td>\n",
       "      <td>Blue Collar</td>\n",
       "      <td>High School</td>\n",
       "    </tr>\n",
       "    <tr>\n",
       "      <td>2</td>\n",
       "      <td>Van</td>\n",
       "      <td>Manager</td>\n",
       "      <td>Bachelors</td>\n",
       "    </tr>\n",
       "    <tr>\n",
       "      <td>3</td>\n",
       "      <td>SUV</td>\n",
       "      <td>Clerical</td>\n",
       "      <td>High School</td>\n",
       "    </tr>\n",
       "    <tr>\n",
       "      <td>4</td>\n",
       "      <td>Minivan</td>\n",
       "      <td>Blue Collar</td>\n",
       "      <td>Below High School</td>\n",
       "    </tr>\n",
       "  </tbody>\n",
       "</table>\n",
       "</div>"
      ],
      "text/plain": [
       "  CAR_TYPE    OCCUPATION          EDUCATION\n",
       "0  Minivan  Professional            Doctors\n",
       "1  Minivan   Blue Collar        High School\n",
       "2      Van       Manager          Bachelors\n",
       "3      SUV      Clerical        High School\n",
       "4  Minivan   Blue Collar  Below High School"
      ]
     },
     "execution_count": 3,
     "metadata": {},
     "output_type": "execute_result"
    }
   ],
   "source": [
    "from sklearn.model_selection import train_test_split\n",
    "features = df[[\"CAR_TYPE\",\"OCCUPATION\",\"EDUCATION\"]]\n",
    "features.head()"
   ]
  },
  {
   "cell_type": "code",
   "execution_count": 4,
   "metadata": {},
   "outputs": [],
   "source": [
    "#Split for training and testing data\n",
    "features_train,features_test,labels_train, labels_test = train_test_split(features,df[\"CAR_USE\"],test_size = 0.3, random_state=27513,stratify = df[\"CAR_USE\"])"
   ]
  },
  {
   "cell_type": "markdown",
   "metadata": {},
   "source": [
    "### Frequency Table\n",
    "Frequency tables give the proportion of Commercial and Private car use in the given data. It will be required for entropy calculations discussed below. \n",
    "Give the frequency table of the target variable (CAR_USE) in training partition."
   ]
  },
  {
   "cell_type": "code",
   "execution_count": 5,
   "metadata": {},
   "outputs": [
    {
     "data": {
      "text/html": [
       "<div>\n",
       "<style scoped>\n",
       "    .dataframe tbody tr th:only-of-type {\n",
       "        vertical-align: middle;\n",
       "    }\n",
       "\n",
       "    .dataframe tbody tr th {\n",
       "        vertical-align: top;\n",
       "    }\n",
       "\n",
       "    .dataframe thead th {\n",
       "        text-align: right;\n",
       "    }\n",
       "</style>\n",
       "<table border=\"1\" class=\"dataframe\">\n",
       "  <thead>\n",
       "    <tr style=\"text-align: right;\">\n",
       "      <th>col_0</th>\n",
       "      <th>Count</th>\n",
       "      <th>All</th>\n",
       "      <th>Proportions</th>\n",
       "    </tr>\n",
       "    <tr>\n",
       "      <th>CAR_USE</th>\n",
       "      <th></th>\n",
       "      <th></th>\n",
       "      <th></th>\n",
       "    </tr>\n",
       "  </thead>\n",
       "  <tbody>\n",
       "    <tr>\n",
       "      <td>Commercial</td>\n",
       "      <td>2652</td>\n",
       "      <td>2652</td>\n",
       "      <td>36.777146</td>\n",
       "    </tr>\n",
       "    <tr>\n",
       "      <td>Private</td>\n",
       "      <td>4559</td>\n",
       "      <td>4559</td>\n",
       "      <td>63.222854</td>\n",
       "    </tr>\n",
       "    <tr>\n",
       "      <td>All</td>\n",
       "      <td>7211</td>\n",
       "      <td>7211</td>\n",
       "      <td>100.000000</td>\n",
       "    </tr>\n",
       "  </tbody>\n",
       "</table>\n",
       "</div>"
      ],
      "text/plain": [
       "col_0       Count   All  Proportions\n",
       "CAR_USE                             \n",
       "Commercial   2652  2652    36.777146\n",
       "Private      4559  4559    63.222854\n",
       "All          7211  7211   100.000000"
      ]
     },
     "execution_count": 5,
     "metadata": {},
     "output_type": "execute_result"
    }
   ],
   "source": [
    "cross_Table_Train = pd.crosstab(labels_train,columns =  [\"Count\"],margins=True,dropna=True)\n",
    "cross_Table_Train[\"Proportions\"] = (cross_Table_Train[\"Count\"]/len(labels_train))*100\n",
    "cross_Table_Train"
   ]
  },
  {
   "cell_type": "markdown",
   "metadata": {},
   "source": [
    "Give the frequency table of the target variable (CAR_USE) in Testing partition?"
   ]
  },
  {
   "cell_type": "code",
   "execution_count": 6,
   "metadata": {},
   "outputs": [
    {
     "data": {
      "text/html": [
       "<div>\n",
       "<style scoped>\n",
       "    .dataframe tbody tr th:only-of-type {\n",
       "        vertical-align: middle;\n",
       "    }\n",
       "\n",
       "    .dataframe tbody tr th {\n",
       "        vertical-align: top;\n",
       "    }\n",
       "\n",
       "    .dataframe thead th {\n",
       "        text-align: right;\n",
       "    }\n",
       "</style>\n",
       "<table border=\"1\" class=\"dataframe\">\n",
       "  <thead>\n",
       "    <tr style=\"text-align: right;\">\n",
       "      <th>col_0</th>\n",
       "      <th>Count</th>\n",
       "      <th>All</th>\n",
       "      <th>Proportions</th>\n",
       "    </tr>\n",
       "    <tr>\n",
       "      <th>CAR_USE</th>\n",
       "      <th></th>\n",
       "      <th></th>\n",
       "      <th></th>\n",
       "    </tr>\n",
       "  </thead>\n",
       "  <tbody>\n",
       "    <tr>\n",
       "      <td>Commercial</td>\n",
       "      <td>1137</td>\n",
       "      <td>1137</td>\n",
       "      <td>36.784212</td>\n",
       "    </tr>\n",
       "    <tr>\n",
       "      <td>Private</td>\n",
       "      <td>1954</td>\n",
       "      <td>1954</td>\n",
       "      <td>63.215788</td>\n",
       "    </tr>\n",
       "    <tr>\n",
       "      <td>All</td>\n",
       "      <td>3091</td>\n",
       "      <td>3091</td>\n",
       "      <td>100.000000</td>\n",
       "    </tr>\n",
       "  </tbody>\n",
       "</table>\n",
       "</div>"
      ],
      "text/plain": [
       "col_0       Count   All  Proportions\n",
       "CAR_USE                             \n",
       "Commercial   1137  1137    36.784212\n",
       "Private      1954  1954    63.215788\n",
       "All          3091  3091   100.000000"
      ]
     },
     "execution_count": 6,
     "metadata": {},
     "output_type": "execute_result"
    }
   ],
   "source": [
    "cross_Table_test = pd.crosstab(labels_test,columns =  [\"Count\"],margins=True,dropna=True)\n",
    "cross_Table_test[\"Proportions\"] = (cross_Table_test[\"Count\"]/len(labels_test))*100\n",
    "cross_Table_test"
   ]
  },
  {
   "cell_type": "markdown",
   "metadata": {},
   "source": [
    "It can be observed that the data is distributed in equal proportions in both training and testing sets. This stratification will help in testing the model that we will generate as it will have equal proportions of Commercial and Private observations."
   ]
  },
  {
   "cell_type": "markdown",
   "metadata": {},
   "source": [
    "### Conditional Probability\n",
    "What is the probability that an observation is in the Training partition given that CAR_USE = Commercial?\n",
    "#### P ( Train | Car Use = Commercial )\n"
   ]
  },
  {
   "cell_type": "code",
   "execution_count": 7,
   "metadata": {},
   "outputs": [
    {
     "name": "stdout",
     "output_type": "stream",
     "text": [
      "The probability that an observation is in the Training partition given that CAR_USE = Commercial is 0.6999611725878471\n"
     ]
    }
   ],
   "source": [
    "c=0\n",
    "prob_train = len(features_train)/len(df[\"CAR_USE\"]) #Probability of the observation in Training set\n",
    "for i in df[\"CAR_USE\"]:\n",
    "    if i ==\"Commercial\":\n",
    "        c+=1        #Probability of the observation being Commercial\n",
    "(prob_train*c/len(df[\"CAR_USE\"]))/(c/len(df[\"CAR_USE\"]))   #Probability that observation is in the Training partition given that CAR_USE = Commercial\n",
    "print(\"The probability that an observation is in the Training partition given that CAR_USE = Commercial is\",(prob_train*c/10302)/(c/10302))"
   ]
  },
  {
   "cell_type": "markdown",
   "metadata": {},
   "source": [
    "What is the probability that an observation is in the Test partition given that CAR_USE = Private?\n",
    "\n",
    "#### P ( Test | Car Use = Private )"
   ]
  },
  {
   "cell_type": "code",
   "execution_count": 8,
   "metadata": {},
   "outputs": [
    {
     "name": "stdout",
     "output_type": "stream",
     "text": [
      "The probability that an observation is in the Testing partition given that CAR_USE = Private is 0.300038827412153\n"
     ]
    }
   ],
   "source": [
    "count=0\n",
    "prob_test = len(features_test)/len(df[\"CAR_USE\"]) #Probability of the observation in Testing set\n",
    "for i in df[\"CAR_USE\"]:\n",
    "    if i ==\"Private\":\n",
    "        count+=1        #Probability of the observation being Private\n",
    "(prob_test*count/10302)/(count/10302)   #Probability that observation is in the Testing partition given that CAR_USE = Private\n",
    "\n",
    "print(\"The probability that an observation is in the Testing partition given that CAR_USE = Private is\",(prob_test*count/10302)/(count/10302))"
   ]
  },
  {
   "cell_type": "code",
   "execution_count": 9,
   "metadata": {},
   "outputs": [],
   "source": [
    "features_train[\"Labels\"] = labels_train"
   ]
  },
  {
   "cell_type": "markdown",
   "metadata": {},
   "source": [
    "### Entropy\n",
    "The goal of building a Decision Tree is to subdivide the data by predictors in such a way that the target values for the observations in the terminal nodes are as similar as possible. Meaning, the terminal nodes must have maximum number of observations belonging to the same class. \n",
    "One criteria to do that is to calculate the entropy value.\n",
    "\n",
    "#### *Entropy*\n",
    "  Entropy is the measure of the impurity of the split. Higher the entropy value, more impure is the split. Hence, the best split is the one which has lowest entropy value. The entropy values lie between 0 to 1. The entropy calculations are discussed over the link [here.][1]\n",
    "\n",
    "[1]: https://www.saedsayad.com/decision_tree.htm"
   ]
  },
  {
   "cell_type": "markdown",
   "metadata": {},
   "source": [
    "### Entropy of Root node\n",
    "Here, we calculate the entropy of root node. To calculate the entropy of root node, we calculate the probability for Commercial and Private Car_Use in the given dataframe. By substituting these values in the entropy formula, we find the entropy of root node.   "
   ]
  },
  {
   "cell_type": "code",
   "execution_count": 10,
   "metadata": {},
   "outputs": [
    {
     "name": "stdout",
     "output_type": "stream",
     "text": [
      "Entropy for root node is given as 0.9489621493401781\n"
     ]
    }
   ],
   "source": [
    "#Entropy of Root Node\n",
    "cnt = 0\n",
    "for i in df[\"CAR_USE\"]:\n",
    "    if i == \"Commercial\":\n",
    "        cnt+=1\n",
    "proba_commercial = cnt/len(df[\"CAR_USE\"])\n",
    "\n",
    "proba_private = (len(df[\"CAR_USE\"])-cnt)/len(df[\"CAR_USE\"])\n",
    "\n",
    "ans = -((proba_commercial * np.log2(proba_commercial) + proba_private * np.log2(proba_private)))\n",
    "print(\"Entropy for root node is given as\",ans)"
   ]
  },
  {
   "cell_type": "markdown",
   "metadata": {},
   "source": [
    "### Finding best splits\n",
    "\n",
    "### Steps\n",
    "1.Start with the first predictor, select a value to split data in the node into two partitions.\n",
    "   Interval or Ordinal Predictors: {x: x < a} and {x: x  a} where a is a value\n",
    "   Nominal Predictor: {x: x belongs to A} and {x: x belongs to A} where A is a subset of values\n",
    "   \n",
    "2.Apply the Goodness of Split Criterion, calculate the impurity of the partitions, and evaluate the reduction of impurity from the parent node.\n",
    "\n",
    "3.Select the split partition that results in the largest reduction of impurity and labels it the “best” split for the predictor.\n",
    "\n",
    "4.Repeat steps 1 to 3 for each remaining predictors.  Go to step 5 when “best” splits are found for all predictors.\n",
    "\n",
    "5.Ranks all of the “best” split of each predictor according to the reduction in impurity achieved by each split.\n",
    "\n",
    "6.Select the predictor and its split partition that most reduced impurity of the parent node.\n",
    "\n",
    "7.Assign observations to one of the two child nodes.\n",
    "\n",
    "8.Determine whether the child nodes are terminal based on the Stopping Criteria (Here it is when we reach at level 2)\n",
    "\n",
    "9.Repeat steps 1 to 8 for each non-terminal child nodes.\n",
    "\n",
    "To find the best splits, we will have to take each predictor in consideration. For each predictor, we find all possible combinations that the predictor has. By doing this, we can frame proper question to be asked at each split. So, we will do this for the first level. We will take all three predictors in consideration and find the best split amongst all three. Then from those three best splits, we will select one split based on the minimum entropy value. This will be question we will ask at level 1.\n",
    "\n",
    "For example, we have a predictor which has values A,B,C,D. The possible combinations for this predictor would be (A)(B)(C)(D)(A,B)(A,C)(A,D)(B,C)(B,D)(C,D). These tuples that we see are the possible questions that we can frame while splitting the data. It can be like, whether the predictor belongs to class A. If yes, the it will be splitted at the left node, or it will be belonging to B,C or D, which will end up at right node. According to this split, the entropy value will be calculated based upon the target variable proportions. If the entropy value is less, it can be considered as the best split.\n",
    "\n",
    "We will try the above steps for each of the predictors and find the best split."
   ]
  },
  {
   "cell_type": "markdown",
   "metadata": {},
   "source": [
    "### Possible combinations for each predictor [Occupation, Car_type, Education]"
   ]
  },
  {
   "cell_type": "code",
   "execution_count": 11,
   "metadata": {},
   "outputs": [],
   "source": [
    "#All possible combinations for occupation\n",
    "occupation_column = df[\"OCCUPATION\"].unique()\n",
    "occupation_combinations = []\n",
    "for i in range(1,math.ceil(len(occupation_column)/2)):\n",
    "    occupation_combinations+=list(combinations(occupation_column,i))"
   ]
  },
  {
   "cell_type": "code",
   "execution_count": 12,
   "metadata": {},
   "outputs": [],
   "source": [
    "#All possible combinations for car type\n",
    "car_type_column = df[\"CAR_TYPE\"].unique()\n",
    "car_type_combinations = []\n",
    "\n",
    "for i in range(1,math.ceil(len(car_type_column)/2)+1):\n",
    "    x = list(combinations(car_type_column,i))\n",
    "    if i == 3:\n",
    "        x = x[:10]\n",
    "    car_type_combinations.extend(x) "
   ]
  },
  {
   "cell_type": "code",
   "execution_count": 13,
   "metadata": {},
   "outputs": [],
   "source": [
    "#All possible combinations for education\n",
    "education_combinations = [(\"Below High School\",),(\"Below High School\",\"High School\",),(\"Below High School\",\"High School\",\"Bachelors\",),(\"Below High School\",\"High School\",\"Bachelors\",\"Masters\",)]"
   ]
  },
  {
   "cell_type": "markdown",
   "metadata": {},
   "source": [
    "### Entropy Calculation for a single split in the given predictor\n",
    "Here we define a function which returns the entropy of the given split. It takes the predictor and corresponding target values as the first input. The second input is the split on which we need to calculate the entropy on. For example we take occupation as the predictor and the split for it will be something like ('Blue Collar', 'Manager', 'Student'), i.e we will split our observations based on this tuple. Then after splitting, we calculate frequency table to get the proportion of target variables in each split. Using this, we can calculate the entropy which will be returned by this function."
   ]
  },
  {
   "cell_type": "code",
   "execution_count": 14,
   "metadata": {},
   "outputs": [],
   "source": [
    "def EntropyIntervalSplit (\n",
    "   inData,          # input data frame (predictor in column 0 and target in column 1)\n",
    "   split):          # split value\n",
    "\n",
    "   #print(split)\n",
    "   dataTable = inData\n",
    "   dataTable['LE_Split'] = False\n",
    "   for k in dataTable.index:\n",
    "       if dataTable.iloc[:,0][k] in split:\n",
    "           dataTable['LE_Split'][k] = True\n",
    "   #print(dataTable['LE_Split'])\n",
    "   crossTable = pd.crosstab(index = dataTable['LE_Split'], columns = dataTable.iloc[:,1], margins = True, dropna = True)   \n",
    "   #print(crossTable)\n",
    "\n",
    "   nRows = crossTable.shape[0]\n",
    "   nColumns = crossTable.shape[1]\n",
    "   \n",
    "   tableEntropy = 0\n",
    "   for iRow in range(nRows-1):\n",
    "      rowEntropy = 0\n",
    "      for iColumn in range(nColumns):\n",
    "         proportion = crossTable.iloc[iRow,iColumn] / crossTable.iloc[iRow,(nColumns-1)]\n",
    "         if (proportion > 0):\n",
    "            rowEntropy -= proportion * np.log2(proportion)\n",
    "      #print('Row = ', iRow, 'Entropy =', rowEntropy)\n",
    "      #print(' ')\n",
    "      tableEntropy += rowEntropy *  crossTable.iloc[iRow,(nColumns-1)]\n",
    "   tableEntropy = tableEntropy /  crossTable.iloc[(nRows-1),(nColumns-1)]\n",
    "  \n",
    "   return(tableEntropy)"
   ]
  },
  {
   "cell_type": "markdown",
   "metadata": {},
   "source": [
    "### Function to find minimum entropy split in each predictor\n",
    "In the above function, we calculated the entropy for just one single split. Now the function below takes all such possible splits, calculate entropy of ech split and return the minimum entropy split. By this, we get the best split for the given predictor. We use this function for each predictor to get best entropies of each predictor. "
   ]
  },
  {
   "cell_type": "code",
   "execution_count": 15,
   "metadata": {},
   "outputs": [],
   "source": [
    "def calculate_min_entropy(df,variable,combinations):\n",
    "    inData1 = df[[variable,\"Labels\"]]\n",
    "    entropies = []\n",
    "    for i in combinations:\n",
    "        EV = EntropyIntervalSplit(inData1, list(i))\n",
    "        entropies.append((EV,i))\n",
    "    return min(entropies)"
   ]
  },
  {
   "cell_type": "markdown",
   "metadata": {},
   "source": [
    "Entropy for best split in Occupation"
   ]
  },
  {
   "cell_type": "code",
   "execution_count": 16,
   "metadata": {},
   "outputs": [
    {
     "data": {
      "text/plain": [
       "(0.7148805225259208, ('Blue Collar', 'Unknown', 'Student'))"
      ]
     },
     "execution_count": 16,
     "metadata": {},
     "output_type": "execute_result"
    }
   ],
   "source": [
    "entropy_occupation = calculate_min_entropy(features_train,\"OCCUPATION\",occupation_combinations)\n",
    "entropy_occupation"
   ]
  },
  {
   "cell_type": "markdown",
   "metadata": {},
   "source": [
    "Entropy for best split in Car Type"
   ]
  },
  {
   "cell_type": "code",
   "execution_count": 17,
   "metadata": {},
   "outputs": [
    {
     "data": {
      "text/plain": [
       "(0.7573352263531922, ('Minivan', 'SUV', 'Sports Car'))"
      ]
     },
     "execution_count": 17,
     "metadata": {},
     "output_type": "execute_result"
    }
   ],
   "source": [
    "entropy_cartype = calculate_min_entropy(features_train,\"CAR_TYPE\",car_type_combinations)\n",
    "entropy_cartype"
   ]
  },
  {
   "cell_type": "markdown",
   "metadata": {},
   "source": [
    "Entropy for best split in EDUCATION"
   ]
  },
  {
   "cell_type": "code",
   "execution_count": 18,
   "metadata": {},
   "outputs": [
    {
     "data": {
      "text/plain": [
       "(0.9343298080392602, ('Below High School',))"
      ]
     },
     "execution_count": 18,
     "metadata": {},
     "output_type": "execute_result"
    }
   ],
   "source": [
    "entropy_education = calculate_min_entropy(features_train,\"EDUCATION\",education_combinations)\n",
    "entropy_education"
   ]
  },
  {
   "cell_type": "markdown",
   "metadata": {},
   "source": [
    "From the numbers above, it can be observed that the predcitor that can be used at level 1 is\n",
    "### Occupation : Entropy Value 0.71488\n",
    "It has the minimum entropy for the split ('Blue Collar', 'Unknown', 'Student') and the entropy value is 0.71488"
   ]
  },
  {
   "cell_type": "markdown",
   "metadata": {},
   "source": [
    "Split the dataframes according to the given split. If the observation belongs to ('Blue Collar', 'Unknown', 'Student'), then it will be in the left dataframe, else it will be in the right dataframe. In this way, we create a parent node where we ask question about the occupation and split our data into two child nodes. Here, we are done with level 1."
   ]
  },
  {
   "cell_type": "code",
   "execution_count": 19,
   "metadata": {},
   "outputs": [
    {
     "data": {
      "text/plain": [
       "(4543, 2668)"
      ]
     },
     "execution_count": 19,
     "metadata": {},
     "output_type": "execute_result"
    }
   ],
   "source": [
    "df_1_left = features_train[(features_train[\"OCCUPATION\"] == \"Blue Collar\") | (features_train[\"OCCUPATION\"] == \"Unknown\") | (features_train[\"OCCUPATION\"] == \"Student\")]\n",
    "df_1_right =  features_train[(features_train[\"OCCUPATION\"] != \"Blue Collar\") & (features_train[\"OCCUPATION\"] != \"Unknown\") & (features_train[\"OCCUPATION\"] != \"Student\")]\n",
    "len(df_1_right),len(df_1_left)"
   ]
  },
  {
   "cell_type": "markdown",
   "metadata": {},
   "source": [
    "Now we repeat the same process of entropy calculation on each sub-dataframe we created. We will find best split at each node again and get done with level 2."
   ]
  },
  {
   "cell_type": "markdown",
   "metadata": {},
   "source": [
    "### Entropy Calculations for left split"
   ]
  },
  {
   "cell_type": "code",
   "execution_count": 20,
   "metadata": {},
   "outputs": [
    {
     "data": {
      "text/plain": [
       "(0.6505878239994441, ('Below High School',))"
      ]
     },
     "execution_count": 20,
     "metadata": {},
     "output_type": "execute_result"
    }
   ],
   "source": [
    "left_edu_entropy = calculate_min_entropy(df_1_left,\"EDUCATION\",education_combinations)\n",
    "left_edu_entropy"
   ]
  },
  {
   "cell_type": "code",
   "execution_count": 21,
   "metadata": {},
   "outputs": [
    {
     "data": {
      "text/plain": [
       "(0.7689481386570244, ('Minivan', 'SUV', 'Sports Car'))"
      ]
     },
     "execution_count": 21,
     "metadata": {},
     "output_type": "execute_result"
    }
   ],
   "source": [
    "left_ct_entropy = calculate_min_entropy(df_1_left,\"CAR_TYPE\",car_type_combinations)\n",
    "left_ct_entropy"
   ]
  },
  {
   "cell_type": "code",
   "execution_count": 22,
   "metadata": {},
   "outputs": [
    {
     "data": {
      "text/plain": [
       "[('Blue Collar',), ('Unknown',), ('Student',)]"
      ]
     },
     "execution_count": 22,
     "metadata": {},
     "output_type": "execute_result"
    }
   ],
   "source": [
    "occupation_column = ['Blue Collar', 'Unknown', 'Student']\n",
    "occupation_combinations = []\n",
    "for i in range(1,math.ceil(len(occupation_column)/2)):\n",
    "    occupation_combinations+=list(combinations(occupation_column,i))\n",
    "left_occupation_entropy = calculate_min_entropy(df_1_left,\"OCCUPATION\",occupation_combinations)\n",
    "occupation_combinations"
   ]
  },
  {
   "cell_type": "markdown",
   "metadata": {},
   "source": [
    "### Entropy calculations for right split"
   ]
  },
  {
   "cell_type": "code",
   "execution_count": 23,
   "metadata": {},
   "outputs": [
    {
     "data": {
      "text/plain": [
       "((0.3212873372854656, ('Minivan', 'SUV', 'Sports Car')),\n",
       " (0.623532570928089, ('Below High School', 'High School', 'Bachelors')),\n",
       " (0.5740628685071641, ('Doctor', 'Lawyer')))"
      ]
     },
     "execution_count": 23,
     "metadata": {},
     "output_type": "execute_result"
    }
   ],
   "source": [
    "occupation_column = ['Professional', 'Manager', 'Clerical', 'Doctor','Lawyer','Home Maker']\n",
    "occupation_combinations = []\n",
    "for i in range(1,math.ceil(len(occupation_column)/2)):\n",
    "    occupation_combinations+=list(combinations(occupation_column,i))\n",
    "right_occupation_entropy = calculate_min_entropy(df_1_right,\"OCCUPATION\",occupation_combinations)\n",
    "\n",
    "right_edu_entropy = calculate_min_entropy(df_1_right,\"EDUCATION\",education_combinations)\n",
    "right_ct_entropy = calculate_min_entropy(df_1_right,\"CAR_TYPE\",car_type_combinations)\n",
    "right_ct_entropy , right_edu_entropy , right_occupation_entropy"
   ]
  },
  {
   "cell_type": "markdown",
   "metadata": {},
   "source": [
    "The best split with minimum entropy that we get is on Car type for the left node at level 1\n",
    "(0.7689481386570244, ('Minivan', 'SUV', 'Sports Car'))."
   ]
  },
  {
   "cell_type": "code",
   "execution_count": 24,
   "metadata": {},
   "outputs": [],
   "source": [
    "df_2_left_left = df_1_left[(features_train[\"EDUCATION\"] == \"Below High School\")]\n",
    "df_2_left_right = df_1_left[(features_train[\"EDUCATION\"] != \"Below High School\")]"
   ]
  },
  {
   "cell_type": "markdown",
   "metadata": {},
   "source": [
    "Now, we have reached the second level of the tree. We have four leaf nodes into which our data is splitted. Let \"Commercial\" be the event and \"Private\" be non-event. From the leaf node data, we will find the probability of event at that particular node. We do this by taking the proportion of count of \"Commercial\" observations to the total observations. We do this for each leaf node.\n",
    "\n",
    "Once we have these probability, we will use it to make predictions.\n"
   ]
  },
  {
   "cell_type": "code",
   "execution_count": 25,
   "metadata": {},
   "outputs": [
    {
     "name": "stdout",
     "output_type": "stream",
     "text": [
      "Count of commercial and private is 140 428 respectively and probability of the event 0.24647887323943662\n"
     ]
    }
   ],
   "source": [
    "cnt = 0\n",
    "for i in df_2_left_left[\"Labels\"]:\n",
    "    if i == \"Commercial\":\n",
    "        cnt+=1\n",
    "proba_commercial = cnt/len(df_2_left_left[\"Labels\"])\n",
    "print(\"Count of commercial and private is\",cnt,(len(df_2_left_left)-cnt),\"respectively and probability of the event\",proba_commercial)"
   ]
  },
  {
   "cell_type": "code",
   "execution_count": 26,
   "metadata": {},
   "outputs": [
    {
     "name": "stdout",
     "output_type": "stream",
     "text": [
      "Count of commercial and private is 1786 314 respectively and probability of the event 0.8504761904761905\n"
     ]
    }
   ],
   "source": [
    "cnt = 0\n",
    "for i in df_2_left_right[\"Labels\"]:\n",
    "    if i == \"Commercial\":\n",
    "        cnt+=1\n",
    "proba_commercial = cnt/len(df_2_left_right[\"Labels\"])\n",
    "print(\"Count of commercial and private is\",cnt,(len(df_2_left_right)-cnt),\"respectively and probability of the event\",proba_commercial)"
   ]
  },
  {
   "cell_type": "code",
   "execution_count": 27,
   "metadata": {},
   "outputs": [],
   "source": [
    "df_2_right_left = df_1_right[(features_train[\"CAR_TYPE\"] == \"Minivan\") | (features_train[\"CAR_TYPE\"] == \"Sports Car\") | (features_train[\"CAR_TYPE\"] == \"SUV\")]\n",
    "df_2_right_right = df_1_right[(features_train[\"CAR_TYPE\"] != \"Minivan\") & (features_train[\"CAR_TYPE\"] != \"Sports Car\") & (features_train[\"CAR_TYPE\"] != \"SUV\")]"
   ]
  },
  {
   "cell_type": "code",
   "execution_count": 28,
   "metadata": {},
   "outputs": [
    {
     "name": "stdout",
     "output_type": "stream",
     "text": [
      "Count of commercial and private is 20 3231 respectively and probability of the event 0.006151953245155337\n"
     ]
    }
   ],
   "source": [
    "cnt = 0\n",
    "for i in df_2_right_left[\"Labels\"]:\n",
    "    if i == \"Commercial\":\n",
    "        cnt+=1\n",
    "proba_commercial = cnt/len(df_2_right_left[\"Labels\"])\n",
    "1-proba_commercial\n",
    "print(\"Count of commercial and private is\",cnt,(len(df_2_right_left)-cnt),\"respectively and probability of the event\",proba_commercial)"
   ]
  },
  {
   "cell_type": "code",
   "execution_count": 29,
   "metadata": {},
   "outputs": [
    {
     "name": "stdout",
     "output_type": "stream",
     "text": [
      "Count of commercial and private is 706 586 respectively and probability of the event 0.5464396284829721\n"
     ]
    }
   ],
   "source": [
    "cnt = 0\n",
    "for i in df_2_right_right[\"Labels\"]:\n",
    "    if i == \"Commercial\":\n",
    "        cnt+=1\n",
    "proba_commercial = cnt/len(df_2_right_right[\"Labels\"])\n",
    "proba_commercial\n",
    "print(\"Count of commercial and private is\",cnt,(len(df_2_right_right)-cnt),\"respectively and probability of the event\",proba_commercial)"
   ]
  },
  {
   "cell_type": "markdown",
   "metadata": {},
   "source": [
    "As we have the probabilites of event for each node ready, we calculate the threshold against which it can be compared. For this example, we will calculate threshold by taking the proportion of target Event value in the training dataset."
   ]
  },
  {
   "cell_type": "code",
   "execution_count": 30,
   "metadata": {},
   "outputs": [
    {
     "name": "stdout",
     "output_type": "stream",
     "text": [
      "Threshold probability of an event is given as 0.3677714602690334\n"
     ]
    }
   ],
   "source": [
    "#Thresold probability of the event from training set\n",
    "cnt = 0\n",
    "for i in features_train[\"Labels\"]:\n",
    "    if i == \"Commercial\":\n",
    "        cnt+=1\n",
    "threshold = cnt/len(features_train[\"Labels\"])\n",
    "print(\"Threshold probability of an event is given as\",threshold)"
   ]
  },
  {
   "cell_type": "markdown",
   "metadata": {},
   "source": [
    "### Decision Rules\n",
    "Now that we have all the numbers, we define decision rules by which the model will predict the class of an observation. We use the probability of each node and thresold probability to define the set of rules. First of all, get the list of predicted probabilty for each observation that we wish to classify. We use our testing dataset to do so."
   ]
  },
  {
   "cell_type": "code",
   "execution_count": 31,
   "metadata": {},
   "outputs": [],
   "source": [
    "predicted_probability=[]\n",
    "occ = [\"Blue Collar\",\"Student\",\"Unknown\"]\n",
    "edu = [\"Below High School\",]\n",
    "cartype = [\"Minivan\",\"SUV\",\"Sports Car\"]\n",
    "for k in features_test.index:\n",
    "    if features_test.iloc[:,1][k] in occ:\n",
    "            if features_test.iloc[:,2][k] in edu:\n",
    "                predicted_probability.append(0.24647887323943662)  #Leftmost Leaf Node\n",
    "            else:\n",
    "                predicted_probability.append(0.8504761904761905)   #Right leaf from left subtree\n",
    "    else:\n",
    "            if features_test.iloc[:,0][k] in cartype:\n",
    "                predicted_probability.append(0.006151953245155337)  #Left leaf from right subtree\n",
    "            else:\n",
    "                predicted_probability.append(0.5464396284829721)   #Rightmost Leaf Node"
   ]
  },
  {
   "cell_type": "markdown",
   "metadata": {},
   "source": [
    "Once we have the list of predicted probabilities, we use the threshold to compare and predict the class of the observation. If the predicted probability is greater than or equal to threshold, classify it as a event (Commercial), else non-event (Private). "
   ]
  },
  {
   "cell_type": "code",
   "execution_count": 32,
   "metadata": {},
   "outputs": [],
   "source": [
    "prediction = []\n",
    "for i in range(0,len(labels_test)):\n",
    "    if predicted_probability[i] >= threshold :\n",
    "        prediction.append(\"Commercial\")\n",
    "    else:\n",
    "        prediction.append(\"Private\")"
   ]
  },
  {
   "cell_type": "markdown",
   "metadata": {},
   "source": [
    "### Misclassification Rate\n",
    "To see how well the model is behaving, calculate the misclassification rate. Misclassification rate is defined as percentage of the observations from the dataset misclassified. Lower this rate, more accurate the model is. We have our predictions for the observations in testing data and their original classes too. Use it to find the misclassification rate."
   ]
  },
  {
   "cell_type": "code",
   "execution_count": 33,
   "metadata": {},
   "outputs": [
    {
     "name": "stdout",
     "output_type": "stream",
     "text": [
      "Missclassification Rate 0.1708185053380783\n"
     ]
    }
   ],
   "source": [
    "from sklearn.metrics import accuracy_score\n",
    "print(\"Missclassification Rate\",1-accuracy_score(labels_test,prediction))"
   ]
  },
  {
   "cell_type": "markdown",
   "metadata": {},
   "source": [
    "### Root Average Squared Error"
   ]
  },
  {
   "cell_type": "code",
   "execution_count": 34,
   "metadata": {},
   "outputs": [
    {
     "data": {
      "text/plain": [
       "0.3300251195213117"
      ]
     },
     "execution_count": 34,
     "metadata": {},
     "output_type": "execute_result"
    }
   ],
   "source": [
    "RASError = 0.0\n",
    "for i in range (0,len(labels_test)):\n",
    "    if labels_test.iloc[i] == \"Commercial\":\n",
    "        RASError += (1-predicted_probability[i])**2\n",
    "    else:\n",
    "        RASError += (predicted_probability[i])**2\n",
    "RASError = math.sqrt(RASError/len(labels_test))\n",
    "RASError"
   ]
  },
  {
   "cell_type": "markdown",
   "metadata": {},
   "source": [
    "### Area under the curve"
   ]
  },
  {
   "cell_type": "code",
   "execution_count": 35,
   "metadata": {},
   "outputs": [
    {
     "data": {
      "text/plain": [
       "0.9114708659772841"
      ]
     },
     "execution_count": 35,
     "metadata": {},
     "output_type": "execute_result"
    }
   ],
   "source": [
    "true_values = 1.0 * np.isin(labels_test, ['Commercial'])\n",
    "AUC = metrics.roc_auc_score(true_values, predicted_probability)\n",
    "AUC"
   ]
  },
  {
   "cell_type": "markdown",
   "metadata": {},
   "source": [
    "Few metrics to see how the model is behaving"
   ]
  },
  {
   "cell_type": "code",
   "execution_count": 36,
   "metadata": {},
   "outputs": [
    {
     "name": "stdout",
     "output_type": "stream",
     "text": [
      "Root Average Squared Error 0.3300251195213117\n",
      "Area Under the curve 0.9114708659772841\n",
      "Missclassification Rate 0.1708185053380783\n"
     ]
    }
   ],
   "source": [
    "print(\"Root Average Squared Error\",RASError)\n",
    "print(\"Area Under the curve\",AUC)\n",
    "print(\"Missclassification Rate\",1-accuracy_score(labels_test,prediction))"
   ]
  },
  {
   "cell_type": "code",
   "execution_count": 37,
   "metadata": {},
   "outputs": [],
   "source": [
    "OneMinusSpecificity, Sensitivity, thresholds = metrics.roc_curve(labels_test, predicted_probability, pos_label = 'Commercial')"
   ]
  },
  {
   "cell_type": "code",
   "execution_count": 38,
   "metadata": {},
   "outputs": [],
   "source": [
    "OneMinusSpecificity = np.append([0], OneMinusSpecificity)\n",
    "Sensitivity = np.append([0], Sensitivity)\n",
    "\n",
    "OneMinusSpecificity = np.append(OneMinusSpecificity, [1])\n",
    "Sensitivity = np.append(Sensitivity, [1])"
   ]
  },
  {
   "cell_type": "markdown",
   "metadata": {},
   "source": [
    "### Receiver Operating Characteristic"
   ]
  },
  {
   "cell_type": "code",
   "execution_count": 39,
   "metadata": {},
   "outputs": [
    {
     "data": {
      "image/png": "[encoded data removed]",
      "text/plain": [
       "<Figure size 432x432 with 1 Axes>"
      ]
     },
     "metadata": {
      "needs_background": "light"
     },
     "output_type": "display_data"
    }
   ],
   "source": [
    "plt.figure(figsize=(6,6))\n",
    "plt.plot(OneMinusSpecificity, Sensitivity, marker = 'o',\n",
    "         color = 'orange', linestyle = 'solid', linewidth = 2, markersize = 6)\n",
    "plt.plot([0, 1], [0, 1], color = 'darkblue', linestyle = '--')\n",
    "plt.grid(True)\n",
    "plt.xlabel(\"False Positive Rate\")\n",
    "plt.ylabel(\"True Positive Rate\")\n",
    "plt.title(\"Receiver Operating Characteristic Curve\")\n",
    "ax = plt.gca()\n",
    "ax.set_aspect('equal')\n",
    "plt.show()"
   ]
  },
  {
   "cell_type": "markdown",
   "metadata": {},
   "source": [
    "### Conclusion \n",
    "We build a decision tree for classifying the data into two different classes based on three predictors. The decision tree has two levels, four leaf nodes at which the decision is made. We used entropy values to find the best split at each node. To test how the model is performing, we used various evaluation metrics like misclassification rate and area under the curve. By looking at those numbers, we can say that the model is performing decently.  "
   ]
  },
  {
   "cell_type": "code",
   "execution_count": null,
   "metadata": {},
   "outputs": [],
   "source": []
  }
 ],
 "metadata": {
  "kernelspec": {
   "display_name": "Python 3",
   "language": "python",
   "name": "python3"
  },
  "language_info": {
   "codemirror_mode": {
    "name": "ipython",
    "version": 3
   },
   "file_extension": ".py",
   "mimetype": "text/x-python",
   "name": "python",
   "nbconvert_exporter": "python",
   "pygments_lexer": "ipython3",
   "version": "3.6.6"
  }
 },
 "nbformat": 4,
 "nbformat_minor": 1
}
